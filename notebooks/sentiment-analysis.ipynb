{
 "cells": [
  {
   "cell_type": "markdown",
   "id": "12c031ec-853a-4388-8c43-e12d11d07c59",
   "metadata": {},
   "source": [
    "# Importing sentiment analysis model from Hugging Face"
   ]
  },
  {
   "cell_type": "code",
   "execution_count": 130,
   "id": "f8c10447-03be-4563-ae91-355d549cf268",
   "metadata": {},
   "outputs": [
    {
     "name": "stderr",
     "output_type": "stream",
     "text": [
      "No model was supplied, defaulted to distilbert-base-uncased-finetuned-sst-2-english and revision af0f99b (https://huggingface.co/distilbert-base-uncased-finetuned-sst-2-english).\n",
      "Using a pipeline without specifying a model name and revision in production is not recommended.\n",
      "Some layers from the model checkpoint at distilbert-base-uncased-finetuned-sst-2-english were not used when initializing TFDistilBertForSequenceClassification: ['dropout_19']\n",
      "- This IS expected if you are initializing TFDistilBertForSequenceClassification from the checkpoint of a model trained on another task or with another architecture (e.g. initializing a BertForSequenceClassification model from a BertForPreTraining model).\n",
      "- This IS NOT expected if you are initializing TFDistilBertForSequenceClassification from the checkpoint of a model that you expect to be exactly identical (initializing a BertForSequenceClassification model from a BertForSequenceClassification model).\n",
      "Some layers of TFDistilBertForSequenceClassification were not initialized from the model checkpoint at distilbert-base-uncased-finetuned-sst-2-english and are newly initialized: ['dropout_39']\n",
      "You should probably TRAIN this model on a down-stream task to be able to use it for predictions and inference.\n"
     ]
    }
   ],
   "source": [
    "from transformers import pipeline\n",
    "sentiment_pipeline = pipeline(\"sentiment-analysis\")"
   ]
  },
  {
   "cell_type": "markdown",
   "id": "4491ec5d-31d9-437a-9cbf-12899e402b88",
   "metadata": {},
   "source": [
    "# Importing necessary libraries"
   ]
  },
  {
   "cell_type": "code",
   "execution_count": 89,
   "id": "24099fcb-ae83-4e67-96ee-5c91f5e3fb59",
   "metadata": {},
   "outputs": [],
   "source": [
    "import pandas as pd\n",
    "import pyarrow as pa\n",
    "import pyarrow.parquet as pq\n",
    "import matplotlib.pyplot as plt\n",
    "import seaborn as sns"
   ]
  },
  {
   "cell_type": "markdown",
   "id": "2ba18851-5350-4bd3-987b-8e7e4752d299",
   "metadata": {},
   "source": [
    "# Reading the parquet files"
   ]
  },
  {
   "cell_type": "code",
   "execution_count": 6,
   "id": "2e159c74-d283-4d4c-bedd-143ca09b6f28",
   "metadata": {},
   "outputs": [],
   "source": [
    "data_df = pd.read_parquet(\"../datasets/data.parquet\")"
   ]
  },
  {
   "cell_type": "code",
   "execution_count": 7,
   "id": "a7e2d924-ac9c-42ad-9f20-707bfbfac09b",
   "metadata": {},
   "outputs": [
    {
     "data": {
      "text/html": [
       "<div>\n",
       "<style scoped>\n",
       "    .dataframe tbody tr th:only-of-type {\n",
       "        vertical-align: middle;\n",
       "    }\n",
       "\n",
       "    .dataframe tbody tr th {\n",
       "        vertical-align: top;\n",
       "    }\n",
       "\n",
       "    .dataframe thead th {\n",
       "        text-align: right;\n",
       "    }\n",
       "</style>\n",
       "<table border=\"1\" class=\"dataframe\">\n",
       "  <thead>\n",
       "    <tr style=\"text-align: right;\">\n",
       "      <th></th>\n",
       "      <th>id</th>\n",
       "      <th>category</th>\n",
       "      <th>title</th>\n",
       "      <th>store</th>\n",
       "      <th>rating</th>\n",
       "      <th>no_rating</th>\n",
       "    </tr>\n",
       "  </thead>\n",
       "  <tbody>\n",
       "    <tr>\n",
       "      <th>0</th>\n",
       "      <td>0</td>\n",
       "      <td>Beauty &amp; Personal Care</td>\n",
       "      <td>Gillette Mach3 Men's Razor Blade Refills, 8 Count</td>\n",
       "      <td>Gillette Store</td>\n",
       "      <td>4.7</td>\n",
       "      <td>11,216 ratings</td>\n",
       "    </tr>\n",
       "    <tr>\n",
       "      <th>1</th>\n",
       "      <td>1</td>\n",
       "      <td>Beauty &amp; Personal Care</td>\n",
       "      <td>Gillette Series 3X Protection Shave Foam, Sens...</td>\n",
       "      <td>Gillette Store</td>\n",
       "      <td>4.5</td>\n",
       "      <td>231 ratings</td>\n",
       "    </tr>\n",
       "    <tr>\n",
       "      <th>2</th>\n",
       "      <td>2</td>\n",
       "      <td>Beauty &amp; Personal Care</td>\n",
       "      <td>Secret Original Anti-Perspirant/Deodorant, Inv...</td>\n",
       "      <td>Secret Store</td>\n",
       "      <td>4.7</td>\n",
       "      <td>1,343 ratings</td>\n",
       "    </tr>\n",
       "    <tr>\n",
       "      <th>3</th>\n",
       "      <td>3</td>\n",
       "      <td>Health &amp; Household</td>\n",
       "      <td>Natracare Non-Applicator 100% Organic Cotton T...</td>\n",
       "      <td>NATRACARE Store</td>\n",
       "      <td>4.6</td>\n",
       "      <td>915 ratings</td>\n",
       "    </tr>\n",
       "    <tr>\n",
       "      <th>4</th>\n",
       "      <td>4</td>\n",
       "      <td>Health &amp; Household</td>\n",
       "      <td>Pepcid Complete Acid Reducer + Antacid Chewabl...</td>\n",
       "      <td>Pepcid Store</td>\n",
       "      <td>4.8</td>\n",
       "      <td>5,566 ratings</td>\n",
       "    </tr>\n",
       "  </tbody>\n",
       "</table>\n",
       "</div>"
      ],
      "text/plain": [
       "   id                category  \\\n",
       "0   0  Beauty & Personal Care   \n",
       "1   1  Beauty & Personal Care   \n",
       "2   2  Beauty & Personal Care   \n",
       "3   3      Health & Household   \n",
       "4   4      Health & Household   \n",
       "\n",
       "                                               title            store  rating  \\\n",
       "0  Gillette Mach3 Men's Razor Blade Refills, 8 Count   Gillette Store     4.7   \n",
       "1  Gillette Series 3X Protection Shave Foam, Sens...   Gillette Store     4.5   \n",
       "2  Secret Original Anti-Perspirant/Deodorant, Inv...     Secret Store     4.7   \n",
       "3  Natracare Non-Applicator 100% Organic Cotton T...  NATRACARE Store     4.6   \n",
       "4  Pepcid Complete Acid Reducer + Antacid Chewabl...     Pepcid Store     4.8   \n",
       "\n",
       "        no_rating  \n",
       "0  11,216 ratings  \n",
       "1     231 ratings  \n",
       "2   1,343 ratings  \n",
       "3     915 ratings  \n",
       "4   5,566 ratings  "
      ]
     },
     "execution_count": 7,
     "metadata": {},
     "output_type": "execute_result"
    }
   ],
   "source": [
    "data_df.head()"
   ]
  },
  {
   "cell_type": "code",
   "execution_count": 10,
   "id": "89b34ee2-00be-4c7b-9339-78f7f3b02e26",
   "metadata": {},
   "outputs": [],
   "source": [
    "review_df = pd.read_parquet(\"../datasets/review.parquet\")"
   ]
  },
  {
   "cell_type": "code",
   "execution_count": 11,
   "id": "e8fe5466-0af4-405f-a827-09aa1fb639a9",
   "metadata": {},
   "outputs": [
    {
     "data": {
      "text/html": [
       "<div>\n",
       "<style scoped>\n",
       "    .dataframe tbody tr th:only-of-type {\n",
       "        vertical-align: middle;\n",
       "    }\n",
       "\n",
       "    .dataframe tbody tr th {\n",
       "        vertical-align: top;\n",
       "    }\n",
       "\n",
       "    .dataframe thead th {\n",
       "        text-align: right;\n",
       "    }\n",
       "</style>\n",
       "<table border=\"1\" class=\"dataframe\">\n",
       "  <thead>\n",
       "    <tr style=\"text-align: right;\">\n",
       "      <th></th>\n",
       "      <th>id</th>\n",
       "      <th>name</th>\n",
       "      <th>data</th>\n",
       "      <th>reviewers_rating</th>\n",
       "      <th>review</th>\n",
       "    </tr>\n",
       "  </thead>\n",
       "  <tbody>\n",
       "    <tr>\n",
       "      <th>0</th>\n",
       "      <td>0</td>\n",
       "      <td>oldcarfrank</td>\n",
       "      <td>Reviewed in the United States on October 7, 2022</td>\n",
       "      <td>5.0</td>\n",
       "      <td>second rate</td>\n",
       "    </tr>\n",
       "    <tr>\n",
       "      <th>1</th>\n",
       "      <td>0</td>\n",
       "      <td>Jerry</td>\n",
       "      <td>Reviewed in the United States on October 5, 2022</td>\n",
       "      <td>5.0</td>\n",
       "      <td>I've got a couple of razors which I can use to...</td>\n",
       "    </tr>\n",
       "    <tr>\n",
       "      <th>2</th>\n",
       "      <td>0</td>\n",
       "      <td>Brandy Phillips</td>\n",
       "      <td>Reviewed in the United States on October 5, 2022</td>\n",
       "      <td>5.0</td>\n",
       "      <td>These razors are great for sensitive skin and ...</td>\n",
       "    </tr>\n",
       "    <tr>\n",
       "      <th>3</th>\n",
       "      <td>0</td>\n",
       "      <td>Zercot</td>\n",
       "      <td>Reviewed in the United States on October 4, 2022</td>\n",
       "      <td>5.0</td>\n",
       "      <td>Like most razor blades, the cost is high. But ...</td>\n",
       "    </tr>\n",
       "    <tr>\n",
       "      <th>4</th>\n",
       "      <td>0</td>\n",
       "      <td>Alexander</td>\n",
       "      <td>Reviewed in the United States on October 4, 2022</td>\n",
       "      <td>5.0</td>\n",
       "      <td>I didn't liked it. Fake</td>\n",
       "    </tr>\n",
       "  </tbody>\n",
       "</table>\n",
       "</div>"
      ],
      "text/plain": [
       "   id             name                                              data  \\\n",
       "0   0      oldcarfrank  Reviewed in the United States on October 7, 2022   \n",
       "1   0            Jerry  Reviewed in the United States on October 5, 2022   \n",
       "2   0  Brandy Phillips  Reviewed in the United States on October 5, 2022   \n",
       "3   0           Zercot  Reviewed in the United States on October 4, 2022   \n",
       "4   0        Alexander  Reviewed in the United States on October 4, 2022   \n",
       "\n",
       "   reviewers_rating                                             review  \n",
       "0               5.0                                        second rate  \n",
       "1               5.0  I've got a couple of razors which I can use to...  \n",
       "2               5.0  These razors are great for sensitive skin and ...  \n",
       "3               5.0  Like most razor blades, the cost is high. But ...  \n",
       "4               5.0                            I didn't liked it. Fake  "
      ]
     },
     "execution_count": 11,
     "metadata": {},
     "output_type": "execute_result"
    }
   ],
   "source": [
    "review_df.head()"
   ]
  },
  {
   "cell_type": "markdown",
   "id": "269fd500-4bda-44f0-af5d-c4feb512ff0e",
   "metadata": {},
   "source": [
    "# Cleaning the data"
   ]
  },
  {
   "cell_type": "markdown",
   "id": "69081912-e9d1-49f2-990b-eb197fb655b0",
   "metadata": {},
   "source": [
    "### Removing Emoji"
   ]
  },
  {
   "cell_type": "code",
   "execution_count": 65,
   "id": "93f13f46-91ad-45e8-95ed-2fa3632ced84",
   "metadata": {},
   "outputs": [],
   "source": [
    "import re\n",
    "\n",
    "def remove_emoji(string):\n",
    "    emoji_pattern = re.compile(\"[\"\n",
    "                               u\"\\U0001F600-\\U0001F64F\"  # emoticons\n",
    "                               u\"\\U0001F300-\\U0001F5FF\"  # symbols & pictographs\n",
    "                               u\"\\U0001F680-\\U0001F6FF\"  # transport & map symbols\n",
    "                               u\"\\U0001F1E0-\\U0001F1FF\"  # flags (iOS)\n",
    "                               u\"\\U00002500-\\U00002BEF\"  # chinese char\n",
    "                               u\"\\U00002702-\\U000027B0\"\n",
    "                               u\"\\U00002702-\\U000027B0\"\n",
    "                               u\"\\U000024C2-\\U0001F251\"\n",
    "                               u\"\\U0001f926-\\U0001f937\"\n",
    "                               u\"\\U00010000-\\U0010ffff\"\n",
    "                               u\"\\u2640-\\u2642\"\n",
    "                               u\"\\u2600-\\u2B55\"\n",
    "                               u\"\\u200d\"\n",
    "                               u\"\\u23cf\"\n",
    "                               u\"\\u23e9\"\n",
    "                               u\"\\u231a\"\n",
    "                               u\"\\ufe0f\"  # dingbats\n",
    "                               u\"\\u3030\"\n",
    "                               \"]+\", flags=re.UNICODE)\n",
    "    return emoji_pattern.sub(r'', str(string))"
   ]
  },
  {
   "cell_type": "code",
   "execution_count": 66,
   "id": "a7fa988e-269e-4306-8110-2e3631a43d2c",
   "metadata": {},
   "outputs": [
    {
     "name": "stderr",
     "output_type": "stream",
     "text": [
      "/tmp/ipykernel_214544/3541759965.py:1: SettingWithCopyWarning: \n",
      "A value is trying to be set on a copy of a slice from a DataFrame.\n",
      "Try using .loc[row_indexer,col_indexer] = value instead\n",
      "\n",
      "See the caveats in the documentation: https://pandas.pydata.org/pandas-docs/stable/user_guide/indexing.html#returning-a-view-versus-a-copy\n",
      "  new_df[\"review\"] = new_df[\"review\"].apply(lambda x: remove_emoji(x))\n"
     ]
    }
   ],
   "source": [
    "new_df[\"review\"] = new_df[\"review\"].apply(lambda x: remove_emoji(x))"
   ]
  },
  {
   "cell_type": "markdown",
   "id": "5286943f-557a-4888-8277-7a2fc0c42cdb",
   "metadata": {},
   "source": [
    "### Removing HTML tags"
   ]
  },
  {
   "cell_type": "code",
   "execution_count": 70,
   "id": "cb70aa14-4efb-4491-8aba-db63b3711f6f",
   "metadata": {},
   "outputs": [],
   "source": [
    "def remove_tags(string):\n",
    "    return re.sub(r\"<\\w*>\",\"\",string)"
   ]
  },
  {
   "cell_type": "code",
   "execution_count": 71,
   "id": "43ae3566-f44f-48b9-a529-702261d40f28",
   "metadata": {},
   "outputs": [
    {
     "name": "stderr",
     "output_type": "stream",
     "text": [
      "/tmp/ipykernel_214544/1520409001.py:1: SettingWithCopyWarning: \n",
      "A value is trying to be set on a copy of a slice from a DataFrame.\n",
      "Try using .loc[row_indexer,col_indexer] = value instead\n",
      "\n",
      "See the caveats in the documentation: https://pandas.pydata.org/pandas-docs/stable/user_guide/indexing.html#returning-a-view-versus-a-copy\n",
      "  new_df[\"review\"] = new_df[\"review\"].apply(lambda x: remove_tags(x))\n"
     ]
    }
   ],
   "source": [
    "new_df[\"review\"] = new_df[\"review\"].apply(lambda x: remove_tags(x))"
   ]
  },
  {
   "cell_type": "code",
   "execution_count": 73,
   "id": "e48c461e-218b-4c2d-9ff2-bf005c4d7000",
   "metadata": {},
   "outputs": [
    {
     "data": {
      "text/plain": [
       "'Re: Headline..I recently did my own razor rating test  using the Mach 3, Harry’s and DSC, four blade razor. Mach 3 far  the best. 1. More shaves per cartridge by far +15. -Harry’s razor about 6 to 8 , varied per cartridge . DSC - 5-6. Note: I am an ex-barber, retired and have an average beard.Mach 3 had the least skin irritation and seldom nicked  the skin and was easy to use under the nose and  around the chin. Harry’s a bit bulky under the nose/ upper lip, but it has a trimmer edge on reverse to make up for it, and  it is feels great on the face.  DSC- left most nicks and irritation.Mach 3 handle ok, But Harry’s felt weighty and comfortable to use, the best of all the handles. DSC razor  handle felt cheap.So the Gillette, though pricey , was the Best Buy IMO. But Harry’s a close rival- a refill pack $2-$3less  expensive per pack ( depending  where bought vis a vis Gillette) ,though a bit more more  per shave. Only a matter of cents so  I still have Harry’s razor handle , and may give it a another try.You wanted an honest review and here it is.'"
      ]
     },
     "execution_count": 73,
     "metadata": {},
     "output_type": "execute_result"
    }
   ],
   "source": [
    "new_df.iloc[42][\"review\"]"
   ]
  },
  {
   "cell_type": "markdown",
   "id": "216a6acb-4fb8-48af-bfbd-c02362877e92",
   "metadata": {},
   "source": [
    "# Trying out sentiment analysis"
   ]
  },
  {
   "cell_type": "code",
   "execution_count": 80,
   "id": "1e62c672-5ff4-47ba-9913-05c8b83282bb",
   "metadata": {},
   "outputs": [],
   "source": [
    "sentiment = []\n",
    "for i in new_df[\"review\"]:\n",
    "    sentiment.append(sentiment_pipeline(i)[0][\"label\"])"
   ]
  },
  {
   "cell_type": "code",
   "execution_count": 81,
   "id": "fdfa0b8f-eb00-44a3-b1d9-8f15d55e7166",
   "metadata": {},
   "outputs": [
    {
     "name": "stderr",
     "output_type": "stream",
     "text": [
      "/tmp/ipykernel_214544/2911768758.py:1: SettingWithCopyWarning: \n",
      "A value is trying to be set on a copy of a slice from a DataFrame.\n",
      "Try using .loc[row_indexer,col_indexer] = value instead\n",
      "\n",
      "See the caveats in the documentation: https://pandas.pydata.org/pandas-docs/stable/user_guide/indexing.html#returning-a-view-versus-a-copy\n",
      "  new_df[\"sentiment\"] = sentiment\n"
     ]
    }
   ],
   "source": [
    "new_df[\"sentiment\"] = sentiment"
   ]
  },
  {
   "cell_type": "code",
   "execution_count": 82,
   "id": "7f25bb0b-4ca1-4b59-aae0-cc2e3c2c2b2f",
   "metadata": {},
   "outputs": [
    {
     "data": {
      "text/html": [
       "<div>\n",
       "<style scoped>\n",
       "    .dataframe tbody tr th:only-of-type {\n",
       "        vertical-align: middle;\n",
       "    }\n",
       "\n",
       "    .dataframe tbody tr th {\n",
       "        vertical-align: top;\n",
       "    }\n",
       "\n",
       "    .dataframe thead th {\n",
       "        text-align: right;\n",
       "    }\n",
       "</style>\n",
       "<table border=\"1\" class=\"dataframe\">\n",
       "  <thead>\n",
       "    <tr style=\"text-align: right;\">\n",
       "      <th></th>\n",
       "      <th>id</th>\n",
       "      <th>name</th>\n",
       "      <th>data</th>\n",
       "      <th>reviewers_rating</th>\n",
       "      <th>review</th>\n",
       "      <th>sentiment</th>\n",
       "    </tr>\n",
       "  </thead>\n",
       "  <tbody>\n",
       "    <tr>\n",
       "      <th>0</th>\n",
       "      <td>0</td>\n",
       "      <td>oldcarfrank</td>\n",
       "      <td>Reviewed in the United States on October 7, 2022</td>\n",
       "      <td>5.0</td>\n",
       "      <td>second rate</td>\n",
       "      <td>NEGATIVE</td>\n",
       "    </tr>\n",
       "    <tr>\n",
       "      <th>1</th>\n",
       "      <td>0</td>\n",
       "      <td>Jerry</td>\n",
       "      <td>Reviewed in the United States on October 5, 2022</td>\n",
       "      <td>5.0</td>\n",
       "      <td>I've got a couple of razors which I can use to...</td>\n",
       "      <td>POSITIVE</td>\n",
       "    </tr>\n",
       "    <tr>\n",
       "      <th>2</th>\n",
       "      <td>0</td>\n",
       "      <td>Brandy Phillips</td>\n",
       "      <td>Reviewed in the United States on October 5, 2022</td>\n",
       "      <td>5.0</td>\n",
       "      <td>These razors are great for sensitive skin and ...</td>\n",
       "      <td>POSITIVE</td>\n",
       "    </tr>\n",
       "    <tr>\n",
       "      <th>3</th>\n",
       "      <td>0</td>\n",
       "      <td>Zercot</td>\n",
       "      <td>Reviewed in the United States on October 4, 2022</td>\n",
       "      <td>5.0</td>\n",
       "      <td>Like most razor blades, the cost is high. But ...</td>\n",
       "      <td>POSITIVE</td>\n",
       "    </tr>\n",
       "    <tr>\n",
       "      <th>4</th>\n",
       "      <td>0</td>\n",
       "      <td>Alexander</td>\n",
       "      <td>Reviewed in the United States on October 4, 2022</td>\n",
       "      <td>5.0</td>\n",
       "      <td>I didn't liked it. Fake</td>\n",
       "      <td>NEGATIVE</td>\n",
       "    </tr>\n",
       "  </tbody>\n",
       "</table>\n",
       "</div>"
      ],
      "text/plain": [
       "   id             name                                              data  \\\n",
       "0   0      oldcarfrank  Reviewed in the United States on October 7, 2022   \n",
       "1   0            Jerry  Reviewed in the United States on October 5, 2022   \n",
       "2   0  Brandy Phillips  Reviewed in the United States on October 5, 2022   \n",
       "3   0           Zercot  Reviewed in the United States on October 4, 2022   \n",
       "4   0        Alexander  Reviewed in the United States on October 4, 2022   \n",
       "\n",
       "   reviewers_rating                                             review  \\\n",
       "0               5.0                                        second rate   \n",
       "1               5.0  I've got a couple of razors which I can use to...   \n",
       "2               5.0  These razors are great for sensitive skin and ...   \n",
       "3               5.0  Like most razor blades, the cost is high. But ...   \n",
       "4               5.0                            I didn't liked it. Fake   \n",
       "\n",
       "  sentiment  \n",
       "0  NEGATIVE  \n",
       "1  POSITIVE  \n",
       "2  POSITIVE  \n",
       "3  POSITIVE  \n",
       "4  NEGATIVE  "
      ]
     },
     "execution_count": 82,
     "metadata": {},
     "output_type": "execute_result"
    }
   ],
   "source": [
    "new_df.head()"
   ]
  },
  {
   "cell_type": "markdown",
   "id": "b7bcfc5c-833d-4b4e-b7c1-44c041c2cfea",
   "metadata": {},
   "source": [
    "# Reducing the data"
   ]
  },
  {
   "cell_type": "markdown",
   "id": "c9ac8913-2b50-4084-a6c5-c04039096c9a",
   "metadata": {},
   "source": [
    "### Ploting the categories in bar chart"
   ]
  },
  {
   "cell_type": "code",
   "execution_count": 85,
   "id": "45a3b032-2fed-457b-892c-c7ccd611bbee",
   "metadata": {},
   "outputs": [],
   "source": [
    "categories = list(data_df[\"category\"].unique())"
   ]
  },
  {
   "cell_type": "code",
   "execution_count": 86,
   "id": "5e6119de-d7bc-47cd-a9a4-d3c80d175c41",
   "metadata": {},
   "outputs": [
    {
     "data": {
      "text/plain": [
       "16"
      ]
     },
     "execution_count": 86,
     "metadata": {},
     "output_type": "execute_result"
    }
   ],
   "source": [
    "len(categories)"
   ]
  },
  {
   "cell_type": "code",
   "execution_count": 87,
   "id": "011b95d3-26ae-431d-99e3-adc203444253",
   "metadata": {},
   "outputs": [
    {
     "data": {
      "text/plain": [
       "[39, 80, 7, 3, 4, 6, 31, 1, 2, 3, 1, 12, 2, 16, 7, 6]"
      ]
     },
     "execution_count": 87,
     "metadata": {},
     "output_type": "execute_result"
    }
   ],
   "source": [
    "cat_count = []\n",
    "for i in categories:\n",
    "    cat_count.append(len(data_df[data_df[\"category\"]==i]))\n",
    "cat_count"
   ]
  },
  {
   "cell_type": "code",
   "execution_count": 90,
   "id": "fec7f12a-2620-408f-ac26-92edc6f0b1d2",
   "metadata": {},
   "outputs": [],
   "source": [
    "colors = sns.color_palette('pastel')[0:16]"
   ]
  },
  {
   "cell_type": "code",
   "execution_count": 98,
   "id": "189a70a6-1a82-47e4-ac6d-8cb1c5dfbf6d",
   "metadata": {},
   "outputs": [
    {
     "data": {
      "image/png": "[encoded data removed]",
      "text/plain": [
       "<Figure size 640x480 with 1 Axes>"
      ]
     },
     "metadata": {},
     "output_type": "display_data"
    }
   ],
   "source": [
    "bar_plot = sns.barplot(x=cat_count,y=categories)\n",
    "plt.show()"
   ]
  },
  {
   "cell_type": "raw",
   "id": "b584387b-b5d0-4e3a-b5b2-4ef1176f6c67",
   "metadata": {},
   "source": [
    "Based on the time we will be checking(Christmas season) and the number of data we have, we decided to select Electronics, Cell Phones & Accessories and Beauty & Personal Care to proceed furthur with"
   ]
  },
  {
   "cell_type": "code",
   "execution_count": null,
   "id": "c6b0ff3b-7e23-423b-8c98-9ec654e876be",
   "metadata": {},
   "outputs": [],
   "source": [
    "selection = [\"Electronics\",\"Cell Phones & Accessories\",\"Beauty & Personal Care\"]"
   ]
  },
  {
   "cell_type": "code",
   "execution_count": 107,
   "id": "124b873f-bfdc-4354-99a1-167c8b721697",
   "metadata": {},
   "outputs": [],
   "source": [
    "data_df = data_df[(data_df[\"category\"]==\"Electronics\") | (data_df[\"category\"]==\"Cell Phones & Accessories\") | (data_df[\"category\"]==\"Beauty & Personal Care\")]"
   ]
  },
  {
   "cell_type": "code",
   "execution_count": 109,
   "id": "f33dc8a1-86c0-467f-8164-cb8ec87071ff",
   "metadata": {},
   "outputs": [
    {
     "data": {
      "text/plain": [
       "57"
      ]
     },
     "execution_count": 109,
     "metadata": {},
     "output_type": "execute_result"
    }
   ],
   "source": [
    "len(data_df)"
   ]
  },
  {
   "cell_type": "code",
   "execution_count": 117,
   "id": "c04f3c6e-d62c-4548-96e6-a237a5156053",
   "metadata": {},
   "outputs": [
    {
     "name": "stderr",
     "output_type": "stream",
     "text": [
      "/tmp/ipykernel_214544/118795873.py:1: SettingWithCopyWarning: \n",
      "A value is trying to be set on a copy of a slice from a DataFrame.\n",
      "Try using .loc[row_indexer,col_indexer] = value instead\n",
      "\n",
      "See the caveats in the documentation: https://pandas.pydata.org/pandas-docs/stable/user_guide/indexing.html#returning-a-view-versus-a-copy\n",
      "  data_df[\"no_rating\"] = data_df[\"no_rating\"].str.replace(\"ratings\",\"\")\n",
      "/tmp/ipykernel_214544/118795873.py:2: SettingWithCopyWarning: \n",
      "A value is trying to be set on a copy of a slice from a DataFrame.\n",
      "Try using .loc[row_indexer,col_indexer] = value instead\n",
      "\n",
      "See the caveats in the documentation: https://pandas.pydata.org/pandas-docs/stable/user_guide/indexing.html#returning-a-view-versus-a-copy\n",
      "  data_df[\"no_rating\"] = data_df[\"no_rating\"].str.replace(\",\",\"\")\n",
      "/tmp/ipykernel_214544/118795873.py:3: SettingWithCopyWarning: \n",
      "A value is trying to be set on a copy of a slice from a DataFrame.\n",
      "Try using .loc[row_indexer,col_indexer] = value instead\n",
      "\n",
      "See the caveats in the documentation: https://pandas.pydata.org/pandas-docs/stable/user_guide/indexing.html#returning-a-view-versus-a-copy\n",
      "  data_df[\"no_rating\"] = data_df[\"no_rating\"].str.replace(\"rating\",\"\")\n"
     ]
    },
    {
     "data": {
      "text/html": [
       "<div>\n",
       "<style scoped>\n",
       "    .dataframe tbody tr th:only-of-type {\n",
       "        vertical-align: middle;\n",
       "    }\n",
       "\n",
       "    .dataframe tbody tr th {\n",
       "        vertical-align: top;\n",
       "    }\n",
       "\n",
       "    .dataframe thead th {\n",
       "        text-align: right;\n",
       "    }\n",
       "</style>\n",
       "<table border=\"1\" class=\"dataframe\">\n",
       "  <thead>\n",
       "    <tr style=\"text-align: right;\">\n",
       "      <th></th>\n",
       "      <th>id</th>\n",
       "      <th>category</th>\n",
       "      <th>title</th>\n",
       "      <th>store</th>\n",
       "      <th>rating</th>\n",
       "      <th>no_rating</th>\n",
       "    </tr>\n",
       "  </thead>\n",
       "  <tbody>\n",
       "    <tr>\n",
       "      <th>0</th>\n",
       "      <td>0</td>\n",
       "      <td>Beauty &amp; Personal Care</td>\n",
       "      <td>Gillette Mach3 Men's Razor Blade Refills, 8 Count</td>\n",
       "      <td>Gillette Store</td>\n",
       "      <td>4.7</td>\n",
       "      <td>11216</td>\n",
       "    </tr>\n",
       "    <tr>\n",
       "      <th>1</th>\n",
       "      <td>1</td>\n",
       "      <td>Beauty &amp; Personal Care</td>\n",
       "      <td>Gillette Series 3X Protection Shave Foam, Sens...</td>\n",
       "      <td>Gillette Store</td>\n",
       "      <td>4.5</td>\n",
       "      <td>231</td>\n",
       "    </tr>\n",
       "    <tr>\n",
       "      <th>2</th>\n",
       "      <td>2</td>\n",
       "      <td>Beauty &amp; Personal Care</td>\n",
       "      <td>Secret Original Anti-Perspirant/Deodorant, Inv...</td>\n",
       "      <td>Secret Store</td>\n",
       "      <td>4.7</td>\n",
       "      <td>1343</td>\n",
       "    </tr>\n",
       "    <tr>\n",
       "      <th>12</th>\n",
       "      <td>13</td>\n",
       "      <td>Beauty &amp; Personal Care</td>\n",
       "      <td>Jan Marini Skin Research C-Esta Serum, 1.0 Fl Oz</td>\n",
       "      <td>None</td>\n",
       "      <td>4.7</td>\n",
       "      <td>351</td>\n",
       "    </tr>\n",
       "    <tr>\n",
       "      <th>18</th>\n",
       "      <td>20</td>\n",
       "      <td>Beauty &amp; Personal Care</td>\n",
       "      <td>Ban Original Unscented 24-hour Invisible Antip...</td>\n",
       "      <td>Ban Store</td>\n",
       "      <td>4.8</td>\n",
       "      <td>429</td>\n",
       "    </tr>\n",
       "  </tbody>\n",
       "</table>\n",
       "</div>"
      ],
      "text/plain": [
       "    id                category  \\\n",
       "0    0  Beauty & Personal Care   \n",
       "1    1  Beauty & Personal Care   \n",
       "2    2  Beauty & Personal Care   \n",
       "12  13  Beauty & Personal Care   \n",
       "18  20  Beauty & Personal Care   \n",
       "\n",
       "                                                title           store  rating  \\\n",
       "0   Gillette Mach3 Men's Razor Blade Refills, 8 Count  Gillette Store     4.7   \n",
       "1   Gillette Series 3X Protection Shave Foam, Sens...  Gillette Store     4.5   \n",
       "2   Secret Original Anti-Perspirant/Deodorant, Inv...    Secret Store     4.7   \n",
       "12   Jan Marini Skin Research C-Esta Serum, 1.0 Fl Oz            None     4.7   \n",
       "18  Ban Original Unscented 24-hour Invisible Antip...       Ban Store     4.8   \n",
       "\n",
       "   no_rating  \n",
       "0     11216   \n",
       "1       231   \n",
       "2      1343   \n",
       "12      351   \n",
       "18      429   "
      ]
     },
     "execution_count": 117,
     "metadata": {},
     "output_type": "execute_result"
    }
   ],
   "source": [
    "data_df[\"no_rating\"] = data_df[\"no_rating\"].str.replace(\"ratings\",\"\")\n",
    "data_df[\"no_rating\"] = data_df[\"no_rating\"].str.replace(\",\",\"\")\n",
    "data_df[\"no_rating\"] = data_df[\"no_rating\"].str.replace(\"rating\",\"\")\n",
    "data_df.head()"
   ]
  },
  {
   "cell_type": "code",
   "execution_count": 118,
   "id": "93b1a0ad-7432-4145-b329-eff18901d625",
   "metadata": {},
   "outputs": [
    {
     "name": "stderr",
     "output_type": "stream",
     "text": [
      "/tmp/ipykernel_214544/2486611264.py:1: SettingWithCopyWarning: \n",
      "A value is trying to be set on a copy of a slice from a DataFrame.\n",
      "Try using .loc[row_indexer,col_indexer] = value instead\n",
      "\n",
      "See the caveats in the documentation: https://pandas.pydata.org/pandas-docs/stable/user_guide/indexing.html#returning-a-view-versus-a-copy\n",
      "  data_df[\"no_rating\"] = pd.to_numeric(data_df[\"no_rating\"])\n"
     ]
    }
   ],
   "source": [
    "data_df[\"no_rating\"] = pd.to_numeric(data_df[\"no_rating\"])"
   ]
  },
  {
   "cell_type": "code",
   "execution_count": 120,
   "id": "ed9d303e-d2a3-4951-bd48-a38646f8a3d3",
   "metadata": {},
   "outputs": [
    {
     "data": {
      "text/html": [
       "<div>\n",
       "<style scoped>\n",
       "    .dataframe tbody tr th:only-of-type {\n",
       "        vertical-align: middle;\n",
       "    }\n",
       "\n",
       "    .dataframe tbody tr th {\n",
       "        vertical-align: top;\n",
       "    }\n",
       "\n",
       "    .dataframe thead th {\n",
       "        text-align: right;\n",
       "    }\n",
       "</style>\n",
       "<table border=\"1\" class=\"dataframe\">\n",
       "  <thead>\n",
       "    <tr style=\"text-align: right;\">\n",
       "      <th></th>\n",
       "      <th>id</th>\n",
       "      <th>category</th>\n",
       "      <th>title</th>\n",
       "      <th>store</th>\n",
       "      <th>rating</th>\n",
       "      <th>no_rating</th>\n",
       "    </tr>\n",
       "  </thead>\n",
       "  <tbody>\n",
       "    <tr>\n",
       "      <th>0</th>\n",
       "      <td>0</td>\n",
       "      <td>Beauty &amp; Personal Care</td>\n",
       "      <td>Gillette Mach3 Men's Razor Blade Refills, 8 Count</td>\n",
       "      <td>Gillette Store</td>\n",
       "      <td>4.7</td>\n",
       "      <td>11216</td>\n",
       "    </tr>\n",
       "    <tr>\n",
       "      <th>1</th>\n",
       "      <td>1</td>\n",
       "      <td>Beauty &amp; Personal Care</td>\n",
       "      <td>Gillette Series 3X Protection Shave Foam, Sens...</td>\n",
       "      <td>Gillette Store</td>\n",
       "      <td>4.5</td>\n",
       "      <td>231</td>\n",
       "    </tr>\n",
       "    <tr>\n",
       "      <th>2</th>\n",
       "      <td>2</td>\n",
       "      <td>Beauty &amp; Personal Care</td>\n",
       "      <td>Secret Original Anti-Perspirant/Deodorant, Inv...</td>\n",
       "      <td>Secret Store</td>\n",
       "      <td>4.7</td>\n",
       "      <td>1343</td>\n",
       "    </tr>\n",
       "    <tr>\n",
       "      <th>12</th>\n",
       "      <td>13</td>\n",
       "      <td>Beauty &amp; Personal Care</td>\n",
       "      <td>Jan Marini Skin Research C-Esta Serum, 1.0 Fl Oz</td>\n",
       "      <td>None</td>\n",
       "      <td>4.7</td>\n",
       "      <td>351</td>\n",
       "    </tr>\n",
       "    <tr>\n",
       "      <th>18</th>\n",
       "      <td>20</td>\n",
       "      <td>Beauty &amp; Personal Care</td>\n",
       "      <td>Ban Original Unscented 24-hour Invisible Antip...</td>\n",
       "      <td>Ban Store</td>\n",
       "      <td>4.8</td>\n",
       "      <td>429</td>\n",
       "    </tr>\n",
       "  </tbody>\n",
       "</table>\n",
       "</div>"
      ],
      "text/plain": [
       "    id                category  \\\n",
       "0    0  Beauty & Personal Care   \n",
       "1    1  Beauty & Personal Care   \n",
       "2    2  Beauty & Personal Care   \n",
       "12  13  Beauty & Personal Care   \n",
       "18  20  Beauty & Personal Care   \n",
       "\n",
       "                                                title           store  rating  \\\n",
       "0   Gillette Mach3 Men's Razor Blade Refills, 8 Count  Gillette Store     4.7   \n",
       "1   Gillette Series 3X Protection Shave Foam, Sens...  Gillette Store     4.5   \n",
       "2   Secret Original Anti-Perspirant/Deodorant, Inv...    Secret Store     4.7   \n",
       "12   Jan Marini Skin Research C-Esta Serum, 1.0 Fl Oz            None     4.7   \n",
       "18  Ban Original Unscented 24-hour Invisible Antip...       Ban Store     4.8   \n",
       "\n",
       "    no_rating  \n",
       "0       11216  \n",
       "1         231  \n",
       "2        1343  \n",
       "12        351  \n",
       "18        429  "
      ]
     },
     "execution_count": 120,
     "metadata": {},
     "output_type": "execute_result"
    }
   ],
   "source": [
    "data_df.head()"
   ]
  },
  {
   "cell_type": "code",
   "execution_count": 119,
   "id": "f4b27b46-6d76-411a-80de-500996ff4177",
   "metadata": {},
   "outputs": [
    {
     "data": {
      "text/html": [
       "<div>\n",
       "<style scoped>\n",
       "    .dataframe tbody tr th:only-of-type {\n",
       "        vertical-align: middle;\n",
       "    }\n",
       "\n",
       "    .dataframe tbody tr th {\n",
       "        vertical-align: top;\n",
       "    }\n",
       "\n",
       "    .dataframe thead th {\n",
       "        text-align: right;\n",
       "    }\n",
       "</style>\n",
       "<table border=\"1\" class=\"dataframe\">\n",
       "  <thead>\n",
       "    <tr style=\"text-align: right;\">\n",
       "      <th></th>\n",
       "      <th>id</th>\n",
       "      <th>rating</th>\n",
       "      <th>no_rating</th>\n",
       "    </tr>\n",
       "  </thead>\n",
       "  <tbody>\n",
       "    <tr>\n",
       "      <th>count</th>\n",
       "      <td>57.000000</td>\n",
       "      <td>57.00000</td>\n",
       "      <td>57.000000</td>\n",
       "    </tr>\n",
       "    <tr>\n",
       "      <th>mean</th>\n",
       "      <td>351.894737</td>\n",
       "      <td>4.55614</td>\n",
       "      <td>4252.912281</td>\n",
       "    </tr>\n",
       "    <tr>\n",
       "      <th>std</th>\n",
       "      <td>266.441342</td>\n",
       "      <td>0.25982</td>\n",
       "      <td>8830.116292</td>\n",
       "    </tr>\n",
       "    <tr>\n",
       "      <th>min</th>\n",
       "      <td>0.000000</td>\n",
       "      <td>3.50000</td>\n",
       "      <td>1.000000</td>\n",
       "    </tr>\n",
       "    <tr>\n",
       "      <th>25%</th>\n",
       "      <td>50.000000</td>\n",
       "      <td>4.40000</td>\n",
       "      <td>122.000000</td>\n",
       "    </tr>\n",
       "    <tr>\n",
       "      <th>50%</th>\n",
       "      <td>529.000000</td>\n",
       "      <td>4.60000</td>\n",
       "      <td>591.000000</td>\n",
       "    </tr>\n",
       "    <tr>\n",
       "      <th>75%</th>\n",
       "      <td>589.000000</td>\n",
       "      <td>4.70000</td>\n",
       "      <td>4112.000000</td>\n",
       "    </tr>\n",
       "    <tr>\n",
       "      <th>max</th>\n",
       "      <td>633.000000</td>\n",
       "      <td>5.00000</td>\n",
       "      <td>51710.000000</td>\n",
       "    </tr>\n",
       "  </tbody>\n",
       "</table>\n",
       "</div>"
      ],
      "text/plain": [
       "               id    rating     no_rating\n",
       "count   57.000000  57.00000     57.000000\n",
       "mean   351.894737   4.55614   4252.912281\n",
       "std    266.441342   0.25982   8830.116292\n",
       "min      0.000000   3.50000      1.000000\n",
       "25%     50.000000   4.40000    122.000000\n",
       "50%    529.000000   4.60000    591.000000\n",
       "75%    589.000000   4.70000   4112.000000\n",
       "max    633.000000   5.00000  51710.000000"
      ]
     },
     "execution_count": 119,
     "metadata": {},
     "output_type": "execute_result"
    }
   ],
   "source": [
    "data_df.describe()"
   ]
  },
  {
   "cell_type": "code",
   "execution_count": 124,
   "id": "7aac21b1-4169-4138-aa27-276c40f36faa",
   "metadata": {},
   "outputs": [
    {
     "data": {
      "text/html": [
       "<div>\n",
       "<style scoped>\n",
       "    .dataframe tbody tr th:only-of-type {\n",
       "        vertical-align: middle;\n",
       "    }\n",
       "\n",
       "    .dataframe tbody tr th {\n",
       "        vertical-align: top;\n",
       "    }\n",
       "\n",
       "    .dataframe thead th {\n",
       "        text-align: right;\n",
       "    }\n",
       "</style>\n",
       "<table border=\"1\" class=\"dataframe\">\n",
       "  <thead>\n",
       "    <tr style=\"text-align: right;\">\n",
       "      <th></th>\n",
       "      <th>id</th>\n",
       "      <th>category</th>\n",
       "      <th>title</th>\n",
       "      <th>store</th>\n",
       "      <th>rating</th>\n",
       "      <th>no_rating</th>\n",
       "    </tr>\n",
       "  </thead>\n",
       "  <tbody>\n",
       "    <tr>\n",
       "      <th>2</th>\n",
       "      <td>2</td>\n",
       "      <td>Beauty &amp; Personal Care</td>\n",
       "      <td>Secret Original Anti-Perspirant/Deodorant, Inv...</td>\n",
       "      <td>Secret Store</td>\n",
       "      <td>4.7</td>\n",
       "      <td>1343</td>\n",
       "    </tr>\n",
       "    <tr>\n",
       "      <th>21</th>\n",
       "      <td>23</td>\n",
       "      <td>Beauty &amp; Personal Care</td>\n",
       "      <td>Clinique All About Eyes Cream for Unisex, 0.5 ...</td>\n",
       "      <td>None</td>\n",
       "      <td>4.6</td>\n",
       "      <td>1676</td>\n",
       "    </tr>\n",
       "    <tr>\n",
       "      <th>23</th>\n",
       "      <td>25</td>\n",
       "      <td>Beauty &amp; Personal Care</td>\n",
       "      <td>PCA SKIN Moisturizing Collagen Night Cream - A...</td>\n",
       "      <td>None</td>\n",
       "      <td>4.7</td>\n",
       "      <td>1481</td>\n",
       "    </tr>\n",
       "    <tr>\n",
       "      <th>24</th>\n",
       "      <td>26</td>\n",
       "      <td>Beauty &amp; Personal Care</td>\n",
       "      <td>Old Spice High Endurance Fresh Scent Body Wash...</td>\n",
       "      <td>Old Spice Store</td>\n",
       "      <td>4.7</td>\n",
       "      <td>780</td>\n",
       "    </tr>\n",
       "    <tr>\n",
       "      <th>131</th>\n",
       "      <td>536</td>\n",
       "      <td>Cell Phones &amp; Accessories</td>\n",
       "      <td>Tracfone Carrier-Locked Motorola Moto e5 4G LT...</td>\n",
       "      <td>Motorola Store</td>\n",
       "      <td>4.3</td>\n",
       "      <td>670</td>\n",
       "    </tr>\n",
       "    <tr>\n",
       "      <th>132</th>\n",
       "      <td>537</td>\n",
       "      <td>Beauty &amp; Personal Care</td>\n",
       "      <td>Olay Fresh Outlast Cooling White Strawberry &amp; ...</td>\n",
       "      <td>Olay Store</td>\n",
       "      <td>4.1</td>\n",
       "      <td>1036</td>\n",
       "    </tr>\n",
       "    <tr>\n",
       "      <th>136</th>\n",
       "      <td>542</td>\n",
       "      <td>Electronics</td>\n",
       "      <td>Samsung Galaxy Watch GPS &amp; Bluetooth w/ 42mm B...</td>\n",
       "      <td>SAMSUNG Store</td>\n",
       "      <td>4.5</td>\n",
       "      <td>768</td>\n",
       "    </tr>\n",
       "    <tr>\n",
       "      <th>137</th>\n",
       "      <td>543</td>\n",
       "      <td>Beauty &amp; Personal Care</td>\n",
       "      <td>Love Beauty And Planet Radical Refresher Body ...</td>\n",
       "      <td>Love Beauty And Planet Store</td>\n",
       "      <td>4.7</td>\n",
       "      <td>3197</td>\n",
       "    </tr>\n",
       "    <tr>\n",
       "      <th>166</th>\n",
       "      <td>577</td>\n",
       "      <td>Beauty &amp; Personal Care</td>\n",
       "      <td>Old Spice Body Wash for Men, Exfoliate with Ch...</td>\n",
       "      <td>Old Spice Store</td>\n",
       "      <td>4.8</td>\n",
       "      <td>964</td>\n",
       "    </tr>\n",
       "    <tr>\n",
       "      <th>186</th>\n",
       "      <td>600</td>\n",
       "      <td>Beauty &amp; Personal Care</td>\n",
       "      <td>Pantene Body Boosting Mousse, Pro-V Maximum Fu...</td>\n",
       "      <td>Pantene Store</td>\n",
       "      <td>4.7</td>\n",
       "      <td>1208</td>\n",
       "    </tr>\n",
       "    <tr>\n",
       "      <th>197</th>\n",
       "      <td>612</td>\n",
       "      <td>Electronics</td>\n",
       "      <td>SAMSUNG HW-N300 2-Channel TV Mate Soundbar, Bl...</td>\n",
       "      <td>SAMSUNG Store</td>\n",
       "      <td>4.3</td>\n",
       "      <td>765</td>\n",
       "    </tr>\n",
       "    <tr>\n",
       "      <th>205</th>\n",
       "      <td>620</td>\n",
       "      <td>Cell Phones &amp; Accessories</td>\n",
       "      <td>Samsung Galaxy A20 32GB A205G/DS 6.4\" HD+ 4,00...</td>\n",
       "      <td>SAMSUNG Store</td>\n",
       "      <td>4.4</td>\n",
       "      <td>1779</td>\n",
       "    </tr>\n",
       "    <tr>\n",
       "      <th>207</th>\n",
       "      <td>622</td>\n",
       "      <td>Cell Phones &amp; Accessories</td>\n",
       "      <td>Samsung Galaxy A20 32GB (A205G/DS) 6.4\" HD Dis...</td>\n",
       "      <td>SAMSUNG Store</td>\n",
       "      <td>4.5</td>\n",
       "      <td>725</td>\n",
       "    </tr>\n",
       "  </tbody>\n",
       "</table>\n",
       "</div>"
      ],
      "text/plain": [
       "      id                   category  \\\n",
       "2      2     Beauty & Personal Care   \n",
       "21    23     Beauty & Personal Care   \n",
       "23    25     Beauty & Personal Care   \n",
       "24    26     Beauty & Personal Care   \n",
       "131  536  Cell Phones & Accessories   \n",
       "132  537     Beauty & Personal Care   \n",
       "136  542                Electronics   \n",
       "137  543     Beauty & Personal Care   \n",
       "166  577     Beauty & Personal Care   \n",
       "186  600     Beauty & Personal Care   \n",
       "197  612                Electronics   \n",
       "205  620  Cell Phones & Accessories   \n",
       "207  622  Cell Phones & Accessories   \n",
       "\n",
       "                                                 title  \\\n",
       "2    Secret Original Anti-Perspirant/Deodorant, Inv...   \n",
       "21   Clinique All About Eyes Cream for Unisex, 0.5 ...   \n",
       "23   PCA SKIN Moisturizing Collagen Night Cream - A...   \n",
       "24   Old Spice High Endurance Fresh Scent Body Wash...   \n",
       "131  Tracfone Carrier-Locked Motorola Moto e5 4G LT...   \n",
       "132  Olay Fresh Outlast Cooling White Strawberry & ...   \n",
       "136  Samsung Galaxy Watch GPS & Bluetooth w/ 42mm B...   \n",
       "137  Love Beauty And Planet Radical Refresher Body ...   \n",
       "166  Old Spice Body Wash for Men, Exfoliate with Ch...   \n",
       "186  Pantene Body Boosting Mousse, Pro-V Maximum Fu...   \n",
       "197  SAMSUNG HW-N300 2-Channel TV Mate Soundbar, Bl...   \n",
       "205  Samsung Galaxy A20 32GB A205G/DS 6.4\" HD+ 4,00...   \n",
       "207  Samsung Galaxy A20 32GB (A205G/DS) 6.4\" HD Dis...   \n",
       "\n",
       "                            store  rating  no_rating  \n",
       "2                    Secret Store     4.7       1343  \n",
       "21                           None     4.6       1676  \n",
       "23                           None     4.7       1481  \n",
       "24                Old Spice Store     4.7        780  \n",
       "131                Motorola Store     4.3        670  \n",
       "132                    Olay Store     4.1       1036  \n",
       "136                 SAMSUNG Store     4.5        768  \n",
       "137  Love Beauty And Planet Store     4.7       3197  \n",
       "166               Old Spice Store     4.8        964  \n",
       "186                 Pantene Store     4.7       1208  \n",
       "197                 SAMSUNG Store     4.3        765  \n",
       "205                 SAMSUNG Store     4.4       1779  \n",
       "207                 SAMSUNG Store     4.5        725  "
      ]
     },
     "execution_count": 124,
     "metadata": {},
     "output_type": "execute_result"
    }
   ],
   "source": [
    "data_df[(data_df[\"no_rating\"]<4112) & (data_df[\"no_rating\"]>591)]"
   ]
  },
  {
   "cell_type": "code",
   "execution_count": 125,
   "id": "c2a0756e-f560-403d-8ee7-56879fb2e721",
   "metadata": {},
   "outputs": [
    {
     "data": {
      "text/html": [
       "<div>\n",
       "<style scoped>\n",
       "    .dataframe tbody tr th:only-of-type {\n",
       "        vertical-align: middle;\n",
       "    }\n",
       "\n",
       "    .dataframe tbody tr th {\n",
       "        vertical-align: top;\n",
       "    }\n",
       "\n",
       "    .dataframe thead th {\n",
       "        text-align: right;\n",
       "    }\n",
       "</style>\n",
       "<table border=\"1\" class=\"dataframe\">\n",
       "  <thead>\n",
       "    <tr style=\"text-align: right;\">\n",
       "      <th></th>\n",
       "      <th>id</th>\n",
       "      <th>category</th>\n",
       "      <th>title</th>\n",
       "      <th>store</th>\n",
       "      <th>rating</th>\n",
       "      <th>no_rating</th>\n",
       "    </tr>\n",
       "  </thead>\n",
       "  <tbody>\n",
       "    <tr>\n",
       "      <th>0</th>\n",
       "      <td>0</td>\n",
       "      <td>Beauty &amp; Personal Care</td>\n",
       "      <td>Gillette Mach3 Men's Razor Blade Refills, 8 Count</td>\n",
       "      <td>Gillette Store</td>\n",
       "      <td>4.7</td>\n",
       "      <td>11216</td>\n",
       "    </tr>\n",
       "    <tr>\n",
       "      <th>1</th>\n",
       "      <td>1</td>\n",
       "      <td>Beauty &amp; Personal Care</td>\n",
       "      <td>Gillette Series 3X Protection Shave Foam, Sens...</td>\n",
       "      <td>Gillette Store</td>\n",
       "      <td>4.5</td>\n",
       "      <td>231</td>\n",
       "    </tr>\n",
       "    <tr>\n",
       "      <th>2</th>\n",
       "      <td>2</td>\n",
       "      <td>Beauty &amp; Personal Care</td>\n",
       "      <td>Secret Original Anti-Perspirant/Deodorant, Inv...</td>\n",
       "      <td>Secret Store</td>\n",
       "      <td>4.7</td>\n",
       "      <td>1343</td>\n",
       "    </tr>\n",
       "    <tr>\n",
       "      <th>12</th>\n",
       "      <td>13</td>\n",
       "      <td>Beauty &amp; Personal Care</td>\n",
       "      <td>Jan Marini Skin Research C-Esta Serum, 1.0 Fl Oz</td>\n",
       "      <td>None</td>\n",
       "      <td>4.7</td>\n",
       "      <td>351</td>\n",
       "    </tr>\n",
       "    <tr>\n",
       "      <th>18</th>\n",
       "      <td>20</td>\n",
       "      <td>Beauty &amp; Personal Care</td>\n",
       "      <td>Ban Original Unscented 24-hour Invisible Antip...</td>\n",
       "      <td>Ban Store</td>\n",
       "      <td>4.8</td>\n",
       "      <td>429</td>\n",
       "    </tr>\n",
       "  </tbody>\n",
       "</table>\n",
       "</div>"
      ],
      "text/plain": [
       "    id                category  \\\n",
       "0    0  Beauty & Personal Care   \n",
       "1    1  Beauty & Personal Care   \n",
       "2    2  Beauty & Personal Care   \n",
       "12  13  Beauty & Personal Care   \n",
       "18  20  Beauty & Personal Care   \n",
       "\n",
       "                                                title           store  rating  \\\n",
       "0   Gillette Mach3 Men's Razor Blade Refills, 8 Count  Gillette Store     4.7   \n",
       "1   Gillette Series 3X Protection Shave Foam, Sens...  Gillette Store     4.5   \n",
       "2   Secret Original Anti-Perspirant/Deodorant, Inv...    Secret Store     4.7   \n",
       "12   Jan Marini Skin Research C-Esta Serum, 1.0 Fl Oz            None     4.7   \n",
       "18  Ban Original Unscented 24-hour Invisible Antip...       Ban Store     4.8   \n",
       "\n",
       "    no_rating  \n",
       "0       11216  \n",
       "1         231  \n",
       "2        1343  \n",
       "12        351  \n",
       "18        429  "
      ]
     },
     "execution_count": 125,
     "metadata": {},
     "output_type": "execute_result"
    }
   ],
   "source": [
    "beauty_df = data_df[data_df[\"category\"]==\"Beauty & Personal Care\"]\n",
    "beauty_df.head()"
   ]
  },
  {
   "cell_type": "code",
   "execution_count": 134,
   "id": "030b749e-ade3-417e-894e-a089e70159e6",
   "metadata": {},
   "outputs": [
    {
     "data": {
      "text/plain": [
       "39"
      ]
     },
     "execution_count": 134,
     "metadata": {},
     "output_type": "execute_result"
    }
   ],
   "source": [
    "len(beauty_df)"
   ]
  },
  {
   "cell_type": "code",
   "execution_count": 127,
   "id": "0912bc99-35d5-4de1-91d4-a406a95557b5",
   "metadata": {},
   "outputs": [],
   "source": [
    "id_list = list(beauty_df[\"id\"].unique())"
   ]
  },
  {
   "cell_type": "code",
   "execution_count": null,
   "id": "d61769b3-f247-4ab9-a378-88364e360495",
   "metadata": {},
   "outputs": [
    {
     "name": "stdout",
     "output_type": "stream",
     "text": [
      "id:  0 \n",
      "positive % 72.8 \n",
      "\n",
      "\n",
      "id:  1 \n",
      "positive % 53.125 \n",
      "\n",
      "\n",
      "id:  2 \n",
      "positive % 75.23809523809524 \n",
      "\n",
      "\n",
      "id:  13 \n",
      "positive % 80.0 \n",
      "\n",
      "\n",
      "id:  20 \n",
      "positive % 83.52941176470588 \n",
      "\n",
      "\n",
      "id:  22 \n",
      "positive % 83.33333333333334 \n",
      "\n",
      "\n",
      "id:  23 \n",
      "positive % 67.58620689655173 \n",
      "\n",
      "\n",
      "id:  25 \n",
      "positive % 80.90277777777779 \n",
      "\n",
      "\n",
      "id:  26 \n",
      "positive % 80.0 \n",
      "\n",
      "\n",
      "id:  35 \n",
      "positive % 100.0 \n",
      "\n",
      "\n",
      "id:  42 \n",
      "positive % 62.878787878787875 \n",
      "\n",
      "\n",
      "id:  45 \n",
      "positive % 71.54471544715447 \n",
      "\n",
      "\n",
      "id:  46 \n",
      "positive % 55.82329317269076 \n",
      "\n",
      "\n",
      "id:  48 \n",
      "positive % 62.311557788944725 \n",
      "\n",
      "\n",
      "id:  50 \n",
      "positive % 81.72413793103448 \n",
      "\n",
      "\n",
      "id:  54 \n",
      "positive % 93.75 \n",
      "\n",
      "\n",
      "id:  56 \n",
      "positive % 57.14285714285714 \n",
      "\n",
      "\n",
      "id:  70 \n",
      "positive % 66.73346693386773 \n",
      "\n",
      "\n",
      "id:  71 \n",
      "positive % 61.77062374245473 \n",
      "\n",
      "\n",
      "id:  73 \n",
      "positive % 50.50100200400801 \n",
      "\n",
      "\n",
      "id:  81 \n",
      "positive % 60.4 \n",
      "\n",
      "\n",
      "id:  90 \n",
      "positive % 74.0 \n",
      "\n",
      "\n",
      "id:  98 \n",
      "positive % 72.14428857715431 \n",
      "\n",
      "\n",
      "id:  504 \n",
      "positive % 75.0 \n",
      "\n",
      "\n",
      "id:  537 \n",
      "positive % 56.666666666666664 \n",
      "\n",
      "\n",
      "id:  543 \n",
      "positive % 69.0376569037657 \n",
      "\n",
      "\n",
      "id:  577 \n",
      "positive % 83.72093023255815 \n",
      "\n",
      "\n",
      "id:  582 \n",
      "positive % 64.0 \n",
      "\n",
      "\n",
      "id:  587 \n",
      "positive % 80.0 \n",
      "\n",
      "\n",
      "id:  594 \n",
      "positive % 61.267605633802816 \n",
      "\n",
      "\n",
      "id:  595 \n",
      "positive % 59.118236472945895 \n",
      "\n",
      "\n",
      "id:  596 \n",
      "positive % 59.118236472945895 \n",
      "\n",
      "\n",
      "id:  600 \n",
      "positive % 72.5 \n",
      "\n",
      "\n",
      "id:  616 \n",
      "positive % 46.902654867256636 \n",
      "\n",
      "\n",
      "id:  633 \n",
      "positive % 51.903807615230455 \n",
      "\n",
      "\n"
     ]
    }
   ],
   "source": [
    "for pid in id_list:\n",
    "    df = review_df[review_df[\"id\"]==pid]\n",
    "    sentiment = []\n",
    "    for i in df[\"review\"]:\n",
    "        try:\n",
    "            sentiment.append(sentiment_pipeline(i)[0][\"label\"])\n",
    "        except:\n",
    "            sentiment.append(\"Negative\")\n",
    "    if len(sentiment)!=0:\n",
    "        print(\"id: \",pid,\"\\npositive %\",(sentiment.count(\"POSITIVE\")/len(sentiment))*100,\"\\n\\n\")"
   ]
  },
  {
   "cell_type": "code",
   "execution_count": 149,
   "id": "5c5ef4c6-c8a8-4b8a-a5ff-78881b13640b",
   "metadata": {},
   "outputs": [
    {
     "data": {
      "text/html": [
       "<div>\n",
       "<style scoped>\n",
       "    .dataframe tbody tr th:only-of-type {\n",
       "        vertical-align: middle;\n",
       "    }\n",
       "\n",
       "    .dataframe tbody tr th {\n",
       "        vertical-align: top;\n",
       "    }\n",
       "\n",
       "    .dataframe thead th {\n",
       "        text-align: right;\n",
       "    }\n",
       "</style>\n",
       "<table border=\"1\" class=\"dataframe\">\n",
       "  <thead>\n",
       "    <tr style=\"text-align: right;\">\n",
       "      <th></th>\n",
       "      <th>id</th>\n",
       "      <th>category</th>\n",
       "      <th>title</th>\n",
       "      <th>store</th>\n",
       "      <th>rating</th>\n",
       "      <th>no_rating</th>\n",
       "    </tr>\n",
       "  </thead>\n",
       "  <tbody>\n",
       "    <tr>\n",
       "      <th>136</th>\n",
       "      <td>542</td>\n",
       "      <td>Electronics</td>\n",
       "      <td>Samsung Galaxy Watch GPS &amp; Bluetooth w/ 42mm B...</td>\n",
       "      <td>SAMSUNG Store</td>\n",
       "      <td>4.5</td>\n",
       "      <td>768</td>\n",
       "    </tr>\n",
       "  </tbody>\n",
       "</table>\n",
       "</div>"
      ],
      "text/plain": [
       "      id     category                                              title  \\\n",
       "136  542  Electronics  Samsung Galaxy Watch GPS & Bluetooth w/ 42mm B...   \n",
       "\n",
       "             store  rating  no_rating  \n",
       "136  SAMSUNG Store     4.5        768  "
      ]
     },
     "execution_count": 149,
     "metadata": {},
     "output_type": "execute_result"
    }
   ],
   "source": [
    "data_df[data_df[\"id\"]==542]"
   ]
  },
  {
   "cell_type": "code",
   "execution_count": 159,
   "id": "51e4ce4a-59a3-4066-9f8a-32681a9020e8",
   "metadata": {},
   "outputs": [],
   "source": [
    "pdt_df = pd.DataFrame()"
   ]
  },
  {
   "cell_type": "code",
   "execution_count": 165,
   "id": "c5c03257-d4f7-4638-a835-90a457042ce1",
   "metadata": {},
   "outputs": [],
   "source": [
    "lst = [542,612,536,620,622,54,577]"
   ]
  },
  {
   "cell_type": "code",
   "execution_count": null,
   "id": "3e637621-653a-4e5c-bede-5a257ec40481",
   "metadata": {},
   "outputs": [],
   "source": []
  },
  {
   "cell_type": "code",
   "execution_count": null,
   "id": "ebcbf6d9-9dc4-42c1-bed9-ba26526adbb4",
   "metadata": {},
   "outputs": [],
   "source": []
  }
 ],
 "metadata": {
  "kernelspec": {
   "display_name": "Python 3 (ipykernel)",
   "language": "python",
   "name": "python3"
  },
  "language_info": {
   "codemirror_mode": {
    "name": "ipython",
    "version": 3
   },
   "file_extension": ".py",
   "mimetype": "text/x-python",
   "name": "python",
   "nbconvert_exporter": "python",
   "pygments_lexer": "ipython3",
   "version": "3.8.2"
  }
 },
 "nbformat": 4,
 "nbformat_minor": 5
}
